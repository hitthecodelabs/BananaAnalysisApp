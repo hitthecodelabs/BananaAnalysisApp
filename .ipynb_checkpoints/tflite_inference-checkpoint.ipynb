{
 "cells": [
  {
   "cell_type": "code",
   "execution_count": null,
   "id": "0c6aa2d0-45f2-43fa-9f4a-fa1b2209059c",
   "metadata": {},
   "outputs": [],
   "source": [
    "from PIL import Image\n",
    "from glob import glob\n",
    "\n",
    "from app import *"
   ]
  },
  {
   "cell_type": "code",
   "execution_count": 1,
   "id": "62da731c-b4db-484f-beb4-9d752abaf709",
   "metadata": {
    "tags": []
   },
   "outputs": [],
   "source": [
    "import tensorflow as tf\n",
    "import numpy as np\n",
    "\n",
    "# Load TFLite model and allocate tensors.\n",
    "interpreter = tf.lite.Interpreter(model_path=\"model.tflite\")\n",
    "interpreter.allocate_tensors()"
   ]
  },
  {
   "cell_type": "code",
   "execution_count": 3,
   "id": "1a2128f0-e31b-4203-af14-9188ac8edc62",
   "metadata": {
    "tags": []
   },
   "outputs": [
    {
     "data": {
      "text/plain": [
       "[{'name': 'serving_default_conv2d_24_input:0',\n",
       "  'index': 0,\n",
       "  'shape': array([  1, 280, 450,   3]),\n",
       "  'shape_signature': array([ -1, 280, 450,   3]),\n",
       "  'dtype': numpy.float32,\n",
       "  'quantization': (0.0, 0),\n",
       "  'quantization_parameters': {'scales': array([], dtype=float32),\n",
       "   'zero_points': array([], dtype=int32),\n",
       "   'quantized_dimension': 0},\n",
       "  'sparsity_parameters': {}}]"
      ]
     },
     "execution_count": 3,
     "metadata": {},
     "output_type": "execute_result"
    }
   ],
   "source": [
    "# Get input and output tensors information from the model file\n",
    "input_details = interpreter.get_input_details()\n",
    "input_details"
   ]
  },
  {
   "cell_type": "code",
   "execution_count": 4,
   "id": "9739dd6c-a74a-4a3f-9e7d-a64d46d02388",
   "metadata": {
    "tags": []
   },
   "outputs": [
    {
     "data": {
      "text/plain": [
       "[{'name': 'StatefulPartitionedCall:0',\n",
       "  'index': 25,\n",
       "  'shape': array([1, 1]),\n",
       "  'shape_signature': array([-1,  1]),\n",
       "  'dtype': numpy.float32,\n",
       "  'quantization': (0.0, 0),\n",
       "  'quantization_parameters': {'scales': array([], dtype=float32),\n",
       "   'zero_points': array([], dtype=int32),\n",
       "   'quantized_dimension': 0},\n",
       "  'sparsity_parameters': {}}]"
      ]
     },
     "execution_count": 4,
     "metadata": {},
     "output_type": "execute_result"
    }
   ],
   "source": [
    "output_details = interpreter.get_output_details()\n",
    "output_details"
   ]
  },
  {
   "cell_type": "code",
   "execution_count": 13,
   "id": "d3d47147-f669-4fbb-9b09-c84082fe4c78",
   "metadata": {
    "tags": []
   },
   "outputs": [],
   "source": [
    "exportacion = glob(\"../ex*/*\")\n",
    "rechazo = glob(\"../re*/*\")\n",
    "# rechazo"
   ]
  },
  {
   "cell_type": "code",
   "execution_count": 30,
   "id": "819b01c3-14b7-4fd4-8f04-8b921d939ab8",
   "metadata": {
    "tags": []
   },
   "outputs": [
    {
     "data": {
      "text/plain": [
       "(1, 280, 450, 3)"
      ]
     },
     "execution_count": 30,
     "metadata": {},
     "output_type": "execute_result"
    }
   ],
   "source": [
    "image = crop_banana(exportacion[0])\n",
    "image = redim(image, alto=280, largo=450).reshape(-1, 280, 450, 3)\n",
    "image.shape"
   ]
  },
  {
   "cell_type": "code",
   "execution_count": 31,
   "id": "bb8a451e-312b-4f63-a187-5ac94ca30ba3",
   "metadata": {
    "tags": []
   },
   "outputs": [],
   "source": [
    "# Make sure the image is preprocessed the same way as for the original Keras model\n",
    "# Your preprocessing steps here, e.g., reshaping, normalization, etc.\n",
    "\n",
    "# Set the tensor (Make sure your image array is of the right shape and type)\n",
    "interpreter.set_tensor(input_details[0]['index'], image.astype(np.float32))\n",
    "\n",
    "# Run the inference\n",
    "interpreter.invoke()"
   ]
  },
  {
   "cell_type": "code",
   "execution_count": 32,
   "id": "b3b91d3c-eb21-436b-ab97-da567e746839",
   "metadata": {
    "tags": []
   },
   "outputs": [
    {
     "name": "stdout",
     "output_type": "stream",
     "text": [
      "Banano para exportación\n"
     ]
    }
   ],
   "source": [
    "# Retrieve the output from the inference\n",
    "output_data = interpreter.get_tensor(output_details[0]['index'])\n",
    "\n",
    "# Decode your output_data similarly to how you decoded the original Keras model's output\n",
    "pred = output_data[0][0]\n",
    "\n",
    "if pred > 0.5:\n",
    "    print(\"Banano para exportación\")\n",
    "    # print(f\"Banano para exportación | confidence: {round(pred, 2)}\")\n",
    "else:\n",
    "    print(\"Banano de rechazo\")\n",
    "    # print(f\"Banano de rechazo | confidence: {round(pred, 2)}\")"
   ]
  },
  {
   "cell_type": "code",
   "execution_count": null,
   "id": "0ad86af0-22f2-4cd3-b06a-8baef5b31fb8",
   "metadata": {},
   "outputs": [],
   "source": [
    "# Load TFLite model and allocate tensors.\n",
    "interpreter = tf.lite.Interpreter(model_path=\"model.tflite\")\n",
    "interpreter.allocate_tensors()\n",
    "\n",
    "def process_file(filepath):\n",
    "    image = crop_banana(filepath)\n",
    "    image = redim(image, alto=280, largo=450).reshape(-1, 280, 450, 3)\n",
    "    \n",
    "    interpreter.set_tensor(input_details[0]['index'], image.astype(np.float32))\n",
    "    interpreter.invoke()\n",
    "    \n",
    "    output_data = interpreter.get_tensor(output_details[0]['index'])\n",
    "    pred = output_data[0][0]\n",
    "    if pred > 0.5:\n",
    "        return f\"Banano para exportación\"\n",
    "        # return f\"Banano para exportación | confidence: {round(pred, 2)}\"\n",
    "    else:\n",
    "        return f\"Banano de rechazo\"\n",
    "        # return f\"Banano de rechazo | confidence: {round(pred, 2)}\""
   ]
  },
  {
   "cell_type": "code",
   "execution_count": null,
   "id": "ac271ea2-c938-427a-964c-56b2abb4defb",
   "metadata": {},
   "outputs": [],
   "source": [
    "# Load TFLite model and allocate tensors.\n",
    "model = tf.lite.Interpreter(model_path=\"model.tflite\")\n",
    "model.allocate_tensors()\n",
    "\n",
    "def process_file(filepath):\n",
    "    image = crop_banana(filepath)\n",
    "    image = redim(image, alto=280, largo=450).reshape(-1, 280, 450, 3)\n",
    "    \n",
    "    # Get input and output tensors information from the model file\n",
    "    input_details = model.get_input_details()\n",
    "    output_details = model.get_output_details()\n",
    "    \n",
    "    model.set_tensor(input_details[0]['index'], image.astype(np.float32))\n",
    "    model.invoke()\n",
    "    \n",
    "    output_data = model.get_tensor(output_details[0]['index'])\n",
    "    pred = output_data[0][0]\n",
    "    if pred > 0.5:\n",
    "        return f\"Banano para exportación\"\n",
    "        # return f\"Banano para exportación | confidence: {round(pred, 2)}\"\n",
    "    else:\n",
    "        return f\"Banano de rechazo\"\n",
    "        # return f\"Banano de rechazo | confidence: {round(pred, 2)}\""
   ]
  },
  {
   "cell_type": "code",
   "execution_count": null,
   "id": "92a07d84-a0d0-4ef9-99a4-a30ca14591e2",
   "metadata": {},
   "outputs": [],
   "source": []
  }
 ],
 "metadata": {
  "kernelspec": {
   "display_name": "Python 3 (ipykernel)",
   "language": "python",
   "name": "python3"
  },
  "language_info": {
   "codemirror_mode": {
    "name": "ipython",
    "version": 3
   },
   "file_extension": ".py",
   "mimetype": "text/x-python",
   "name": "python",
   "nbconvert_exporter": "python",
   "pygments_lexer": "ipython3",
   "version": "3.11.3"
  }
 },
 "nbformat": 4,
 "nbformat_minor": 5
}
